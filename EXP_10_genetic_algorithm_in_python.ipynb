{
  "nbformat": 4,
  "nbformat_minor": 0,
  "metadata": {
    "colab": {
      "provenance": []
    },
    "kernelspec": {
      "name": "python3",
      "display_name": "Python 3"
    },
    "language_info": {
      "name": "python"
    }
  },
  "cells": [
    {
      "cell_type": "code",
      "source": [
        "from numpy.random import randint\n",
        "from numpy.random import rand\n",
        "import math"
      ],
      "metadata": {
        "id": "21BoWLSCKXE7"
      },
      "execution_count": 1,
      "outputs": []
    },
    {
      "cell_type": "code",
      "source": [
        "# The objective function is a two-dimensional inverted Gaussian function, centred at (7, 9)\n",
        "def objective(x):\n",
        "  y = math.exp(((x[0]-7)**2) + (x[1]-9)**2)\n",
        "  return y"
      ],
      "metadata": {
        "id": "TDgKquO2KW4f"
      },
      "execution_count": 2,
      "outputs": []
    },
    {
      "cell_type": "code",
      "source": [
        "# The decode function decodes binary bitstrings to numbers for each input and scales the value to fall within defined bounds\n",
        "def decode(bounds, n_bits, bitstring):\n",
        "\tdecoded = []  # Create an empty list to hold the decoded values\n",
        "\tlargest = 2**n_bits  # The largest value that can be represented with the given number of bits\n",
        "\tfor i in range(len(bounds)):\n",
        "\n",
        "\t\t# Extract the substring for the current value\n",
        "\t\tstart, end = i * n_bits, (i * n_bits) + n_bits  # Define the start and end indices of the substring\n",
        "\t\tsubstring = bitstring[start:end]  # Extract the substring\n",
        "\n",
        "\t\t# Convert the substring to a string of characters\n",
        "\t\tchars = ''.join([str(s) for s in substring])  # Join the values in the substring together into a string of characters\n",
        "\n",
        "\t\t# Convert the string of characters to an integer\n",
        "\t\tinteger = int(chars, 2)  # Convert the binary number string into an integer\n",
        "\n",
        "\t\t# Scale the integer to the desired range\n",
        "\t\tvalue = bounds[i][0] + (integer/largest) * (bounds[i][1] - bounds[i][0])  # Scale the integer to a value within the defined bounds\n",
        "\n",
        "\t\t# Store the decoded value\n",
        "\t\tdecoded.append(value)\n",
        "\treturn decoded"
      ],
      "metadata": {
        "id": "2sNnzWpCKWvI"
      },
      "execution_count": 3,
      "outputs": []
    },
    {
      "cell_type": "code",
      "source": [
        "#Let us understand the decoding part first that takes the bounds as input along with the\n",
        "#number of bits and the actual bitstring itself and decodes the bitstring back\n",
        "#to original values that fall within the test bounds.\n",
        "test_bounds=[[-10.0, 10.0], [-10.0, 10.0]]\n",
        "test_n_bits = 16\n",
        "#test_n_pop = 100\n",
        "#Generate a random bit string (of values 0 and 1) of length n_bits*len(bounds). In our case 16*2 = 32\n",
        "test_bit_string = randint(0, 2, test_n_bits*len(test_bounds)).tolist()\n",
        "decoded_values = decode(test_bounds, test_n_bits, test_bit_string)\n",
        "print(test_bit_string)\n",
        "print(decoded_values)"
      ],
      "metadata": {
        "colab": {
          "base_uri": "https://localhost:8080/",
          "height": 0
        },
        "id": "3LFPrLOys9HQ",
        "outputId": "533ca3ca-7325-4957-87f8-6d8a4e9d0d5a"
      },
      "execution_count": 4,
      "outputs": [
        {
          "output_type": "stream",
          "name": "stdout",
          "text": [
            "[0, 0, 1, 0, 0, 0, 0, 1, 1, 0, 0, 0, 0, 1, 0, 0, 0, 1, 0, 1, 1, 0, 1, 1, 0, 1, 0, 0, 0, 0, 1, 1]\n",
            "[-7.381591796875, -2.87017822265625]\n"
          ]
        }
      ]
    },
    {
      "cell_type": "code",
      "source": [
        "def selection(pop, scores, k=3):\n",
        "\n",
        "    # Randomly select one index from the population as the initial selection\n",
        "    selection_ix = randint(len(pop))\n",
        "\n",
        "    # Perform a tournament among k randomly selected individuals\n",
        "    for ix in randint(0, len(pop), k-1):\n",
        "\n",
        "        # Check if the current individual has a better score than the selected one\n",
        "        if scores[ix] < scores[selection_ix]:\n",
        "            # Update the selected individual if a better one is found\n",
        "            selection_ix = ix\n",
        "    # Return the best individual from the tournament\n",
        "    return pop[selection_ix]"
      ],
      "metadata": {
        "id": "--alQ4YtKWkX"
      },
      "execution_count": 6,
      "outputs": []
    },
    {
      "cell_type": "code",
      "source": [
        "#Let us understand the selection process.\n",
        "#Create a test population\n",
        "test_bounds=[[-10.0, 10.0], [-10.0, 10.0]]\n",
        "test_n_bits = 16\n",
        "test_n_pop = 100\n",
        "#Create a random population from which we will select based on the scores (from the objective function)\n",
        "pop = [randint(0, 2, test_n_bits*len(test_bounds)).tolist() for _ in range(test_n_pop)]\n",
        "# decode population\n",
        "test_decoded = [decode(test_bounds, test_n_bits, p) for p in pop]\n",
        "# evaluate all candidates in the population using our objective function\n",
        "test_scores = [objective(d) for d in test_decoded]\n",
        "#Run the selection to pick the selected ones from our population\n",
        "test_selection = selection(pop, test_scores, k=3)\n",
        "\n",
        "print(\"From a population of :\", len(pop), \" the selected pop is: \")\n",
        "print(test_selection)"
      ],
      "metadata": {
        "colab": {
          "base_uri": "https://localhost:8080/",
          "height": 0
        },
        "id": "l2zhIcW6swA4",
        "outputId": "3ae91b82-e3e5-4855-d3b8-80e162e8d553"
      },
      "execution_count": 7,
      "outputs": [
        {
          "output_type": "stream",
          "name": "stdout",
          "text": [
            "From a population of : 100  the selected pop is: \n",
            "[1, 0, 1, 1, 1, 0, 1, 1, 1, 1, 0, 1, 1, 0, 0, 1, 0, 1, 1, 1, 0, 0, 0, 1, 1, 1, 0, 0, 1, 1, 0, 1]\n"
          ]
        }
      ]
    },
    {
      "cell_type": "code",
      "source": [
        "def crossover(p1, p2, r_cross):\n",
        "\n",
        "    # Children are copies of the parents by default\n",
        "    c1, c2 = p1.copy(), p2.copy()\n",
        "    # Check if recombination should occur\n",
        "    if rand() < r_cross:\n",
        "        # Select a crossover point (not at the end of the string)\n",
        "        pt = randint(1, len(p1)-2)\n",
        "        # Perform crossover in the children\n",
        "        c1 = p1[:pt] + p2[pt:]\n",
        "        c2 = p2[:pt] + p1[pt:]\n",
        "    # Return the two children\n",
        "    return [c1, c2]"
      ],
      "metadata": {
        "id": "l5AuSyTtKWIB"
      },
      "execution_count": 8,
      "outputs": []
    },
    {
      "cell_type": "code",
      "source": [
        "\n",
        "#Let us understand the Crossover .\n",
        "test_r_cross = 0.9 #Crossover rate\n",
        "test_bounds=[[-10.0, 10.0], [-10.0, 10.0]]\n",
        "test_n_bits = 16\n",
        "test_p1 = randint(0, 2, test_n_bits*len(test_bounds)).tolist()\n",
        "test_p2 = randint(0, 2, test_n_bits*len(test_bounds)).tolist()\n",
        "test_c1, test_c2 = crossover(test_p1, test_p2, test_r_cross)\n",
        "print(\"Parent 1 is: \", test_p1)\n",
        "print(\"Child 1 is : \", test_c1)\n",
        "print(\"Parent 2 is: \", test_p2)\n",
        "print(\"Child 2 is : \", test_c2)\n"
      ],
      "metadata": {
        "id": "QDYuRrzXLA4X",
        "colab": {
          "base_uri": "https://localhost:8080/",
          "height": 0
        },
        "outputId": "1713b8eb-1c8e-4274-a06f-91d21223224a"
      },
      "execution_count": 9,
      "outputs": [
        {
          "output_type": "stream",
          "name": "stdout",
          "text": [
            "Parent 1 is:  [1, 1, 1, 0, 0, 1, 0, 1, 0, 0, 0, 0, 0, 0, 0, 1, 0, 0, 1, 1, 1, 1, 0, 1, 1, 1, 0, 1, 0, 0, 1, 1]\n",
            "Child 1 is :  [1, 1, 1, 0, 0, 1, 0, 1, 0, 0, 0, 0, 0, 0, 0, 1, 0, 0, 1, 1, 1, 1, 0, 1, 1, 1, 0, 1, 0, 0, 1, 1]\n",
            "Parent 2 is:  [1, 0, 1, 1, 0, 0, 0, 0, 1, 1, 1, 0, 1, 1, 0, 1, 1, 0, 0, 0, 1, 1, 0, 1, 1, 0, 1, 1, 1, 1, 1, 0]\n",
            "Child 2 is :  [1, 0, 1, 1, 0, 0, 0, 0, 1, 1, 1, 0, 1, 1, 0, 1, 1, 0, 0, 0, 1, 1, 0, 1, 1, 0, 1, 1, 1, 1, 1, 0]\n"
          ]
        }
      ]
    },
    {
      "cell_type": "code",
      "source": [
        "#The crossover process can generate offsprings that are very similar to the parents. This might cause a new generation with low diversity.\n",
        "# The mutation process solves this problem by changing the value of some features in the offspring at random.\n",
        "\n",
        "\n",
        "import random\n",
        "\n",
        "def mutation(bitstring, r_mut):\n",
        "\n",
        "    rand = random.random\n",
        "    for i in range(len(bitstring)):\n",
        "        # Check for a mutation\n",
        "        if rand() < r_mut:\n",
        "            # Flip the bit\n",
        "            bitstring[i] = 1 - bitstring[i]\n",
        "    return bitstring"
      ],
      "metadata": {
        "id": "etYc5HxIKivE"
      },
      "execution_count": 11,
      "outputs": []
    },
    {
      "cell_type": "code",
      "source": [
        "\n",
        "#Run the cell a few times to see random mutations\n",
        "#Let us understand the mutation.\n",
        "# define range for input\n",
        "test_bounds = [[-10.0, 10.0], [-10.0, 10.0]]\n",
        "test_n_bits = 16\n",
        "# mutation rate\n",
        "r_mut = 1.0 / (float(test_n_bits) * len(test_bounds))\n",
        "test_bitstring = randint(0, 2, test_n_bits*len(test_bounds)).tolist()\n",
        "print(\"String before mutation is \", test_bitstring)\n",
        "mutation(test_bitstring, r_mut)\n",
        "print(\"String after mutation is  \", test_bitstring)\n"
      ],
      "metadata": {
        "id": "pcen-dMALIxE",
        "colab": {
          "base_uri": "https://localhost:8080/",
          "height": 0
        },
        "outputId": "d0d1c141-a95a-416a-b0aa-acda2c939653"
      },
      "execution_count": 12,
      "outputs": [
        {
          "output_type": "stream",
          "name": "stdout",
          "text": [
            "String before mutation is  [1, 0, 0, 0, 1, 1, 1, 1, 0, 1, 1, 1, 1, 0, 1, 1, 1, 1, 0, 0, 1, 1, 0, 0, 0, 0, 1, 0, 1, 1, 1, 0]\n",
            "String after mutation is   [1, 0, 0, 0, 1, 1, 1, 1, 0, 1, 1, 1, 1, 0, 1, 1, 1, 1, 0, 0, 1, 1, 0, 0, 0, 0, 1, 0, 1, 1, 1, 0]\n"
          ]
        }
      ]
    },
    {
      "cell_type": "code",
      "source": [
        "### Putting all together into our Genetic algorithm that runs until it finds the best\n",
        "#The whole fitness assignment, selection, recombination, and mutation process is\n",
        "#repeated until a stopping criterion is satisfied.\n",
        "#Each generation is likely to be more adapted to the environment than the old one.\n",
        "\n",
        "# genetic algorithm implementation\n",
        "def genetic_algorithm(objective, bounds, n_bits, n_iter, n_pop, r_cross, r_mut):\n",
        "\n",
        "\n",
        "    # initialize the population with random bitstrings\n",
        "    pop = [randint(0, 2, n_bits * len(bounds)).tolist() for _ in range(n_pop)]\n",
        "\n",
        "    # track the best solution found so far\n",
        "    best, best_eval = 0, objective(decode(bounds, n_bits, pop[0]))\n",
        "\n",
        "    # iterate over generations\n",
        "    for gen in range(n_iter):\n",
        "        # decode the population\n",
        "        decoded = [decode(bounds, n_bits, p) for p in pop]\n",
        "        # evaluate all candidates in the population\n",
        "        scores = [objective(d) for d in decoded]\n",
        "        # check for a new best solution\n",
        "        for i in range(n_pop):\n",
        "            if scores[i] < best_eval:\n",
        "                best, best_eval = pop[i], scores[i]\n",
        "                print(\">%d, new best f(%s) = %f\" % (gen,  decoded[i], scores[i]))\n",
        "\n",
        "        # select parents\n",
        "        selected = [selection(pop, scores) for _ in range(n_pop)]\n",
        "\n",
        "        # create the next generation - children\n",
        "        children = list()\n",
        "        for i in range(0, n_pop, 2):\n",
        "            # get selected parents in pairs\n",
        "            p1, p2 = selected[i], selected[i + 1]\n",
        "            # crossover and mutation\n",
        "            for c in crossover(p1, p2, r_cross):\n",
        "                # mutation\n",
        "                mutation(c, r_mut)\n",
        "                # store for next generation\n",
        "                children.append(c)\n",
        "        # replace the population\n",
        "        pop = children\n",
        "    return [best, best_eval]\n",
        "\n",
        "\n"
      ],
      "metadata": {
        "id": "aftG_UNlJY42"
      },
      "execution_count": 14,
      "outputs": []
    },
    {
      "cell_type": "code",
      "source": [
        "\n",
        "# define range for input\n",
        "bounds = [[-10.0, 10.0], [-10.0, 10.0]]\n",
        "# define the total iterations\n",
        "n_iter = 100\n",
        "# bits per variable\n",
        "n_bits = 16\n",
        "# define the population size\n",
        "n_pop = 100\n",
        "# crossover rate\n",
        "r_cross = 0.9\n",
        "# mutation rate\n",
        "r_mut = 1.0 / (float(n_bits) * len(bounds))\n",
        "# perform the genetic algorithm search\n",
        "best, score = genetic_algorithm(objective, bounds, n_bits, n_iter, n_pop, r_cross, r_mut)\n",
        "print('###########################################################')\n",
        "decoded = decode(bounds, n_bits, best)\n",
        "print('The result is (%s) with a score of %f' % (decoded, score))"
      ],
      "metadata": {
        "id": "cLP_qMWeKsXN",
        "colab": {
          "base_uri": "https://localhost:8080/",
          "height": 0
        },
        "outputId": "558676f7-d120-4415-eb35-73f18ab4f86a"
      },
      "execution_count": 15,
      "outputs": [
        {
          "output_type": "stream",
          "name": "stdout",
          "text": [
            ">0, new best f([6.59576416015625, -4.91668701171875]) = 1522625557003292963281170309562756140678560082918452663138485488401144590914061074432.000000\n",
            ">0, new best f([6.66107177734375, -2.20306396484375]) = 3610764485693253965191136431791075775003425704442331136.000000\n",
            ">0, new best f([5.64239501953125, 3.71673583984375]) = 8372481809677.679688\n",
            ">0, new best f([7.9803466796875, 6.5802001953125]) = 912.794440\n",
            ">0, new best f([7.2625732421875, 9.986572265625]) = 2.835645\n",
            ">0, new best f([7.00775146484375, 9.33441162109375]) = 1.118391\n",
            ">2, new best f([7.00775146484375, 9.2803955078125]) = 1.081860\n",
            ">4, new best f([7.16339111328125, 9.195556640625]) = 1.067094\n",
            ">5, new best f([7.00714111328125, 9.1986083984375]) = 1.040287\n",
            ">5, new best f([6.9500732421875, 9.1497802734375]) = 1.025240\n",
            ">6, new best f([6.8939208984375, 9.07196044921875]) = 1.016567\n",
            ">7, new best f([6.96868896484375, 9.0716552734375]) = 1.006134\n",
            ">9, new best f([7.07550048828125, 8.992919921875]) = 1.005767\n",
            ">9, new best f([7.0281982421875, 9.0032958984375]) = 1.000806\n",
            ">12, new best f([7.01080322265625, 9.0008544921875]) = 1.000117\n",
            ">14, new best f([6.990966796875, 9.0032958984375]) = 1.000092\n",
            ">16, new best f([6.99127197265625, 9.0008544921875]) = 1.000077\n",
            ">17, new best f([6.99798583984375, 8.99749755859375]) = 1.000010\n",
            ">28, new best f([7.003173828125, 8.99993896484375]) = 1.000010\n",
            ">28, new best f([6.99951171875, 8.997802734375]) = 1.000005\n",
            ">32, new best f([7.0001220703125, 8.9984130859375]) = 1.000003\n",
            ">33, new best f([7.0001220703125, 9.00146484375]) = 1.000002\n",
            ">40, new best f([6.99951171875, 8.9996337890625]) = 1.000000\n",
            ">41, new best f([7.0001220703125, 8.9996337890625]) = 1.000000\n",
            ">43, new best f([7.0001220703125, 8.99993896484375]) = 1.000000\n",
            "###########################################################\n",
            "The result is ([7.0001220703125, 8.99993896484375]) with a score of 1.000000\n"
          ]
        }
      ]
    }
  ]
}